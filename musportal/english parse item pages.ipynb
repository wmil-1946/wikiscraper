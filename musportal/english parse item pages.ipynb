{
 "cells": [
  {
   "cell_type": "code",
   "execution_count": null,
   "metadata": {},
   "outputs": [],
   "source": [
    "!{'pip install dataflows==0.0.58'}"
   ]
  },
  {
   "cell_type": "code",
   "execution_count": 2,
   "metadata": {},
   "outputs": [
    {
     "data": {
      "text/plain": [
       "(<datapackage.package.Package at 0x7fcd45a912b0>, {})"
      ]
     },
     "execution_count": 2,
     "metadata": {},
     "output_type": "execute_result"
    }
   ],
   "source": [
    "from dataflows import Flow, load, printer\n",
    "\n",
    "all_items_by_he_url = {}\n",
    "\n",
    "def load_all_items(row):\n",
    "    assert row['item_url'] not in all_items_by_he_url, 'duplicate item: {}'.format(row['item_url'])\n",
    "    all_items_by_he_url[row['item_url']] = row\n",
    "\n",
    "Flow(\n",
    "    load('../data/musportal_items_with_english_titles.xlsx'),\n",
    "    load_all_items\n",
    ").process()"
   ]
  },
  {
   "cell_type": "code",
   "execution_count": 4,
   "metadata": {},
   "outputs": [
    {
     "data": {
      "text/plain": [
       "(<datapackage.package.Package at 0x7fcd45015940>, {})"
      ]
     },
     "execution_count": 4,
     "metadata": {},
     "output_type": "execute_result"
    }
   ],
   "source": [
    "all_items_by_en_url = {}\n",
    "\n",
    "def load_en_pages(rows):\n",
    "    for rownum, row in enumerate(rows):\n",
    "        assert row['item_url'] not in all_items_by_en_url\n",
    "        row['filename'] = '../data/musportal-item-pages-en-puppeteer/rownum{}.txt'.format(rownum)\n",
    "        all_items_by_en_url[row['item_url']] = row\n",
    "        yield row\n",
    "    \n",
    "Flow(\n",
    "    load('.checkpoints/all_page_items_en/datapackage.json'),\n",
    "    load_en_pages\n",
    ").process()"
   ]
  },
  {
   "cell_type": "code",
   "execution_count": 7,
   "metadata": {},
   "outputs": [
    {
     "name": "stdout",
     "output_type": "stream",
     "text": [
      "he items: 23812\n",
      "en items: 23995\n"
     ]
    }
   ],
   "source": [
    "print('he items: {}'.format(len(all_items_by_he_url)))\n",
    "print('en items: {}'.format(len(all_items_by_en_url)))"
   ]
  },
  {
   "cell_type": "code",
   "execution_count": 98,
   "metadata": {},
   "outputs": [
    {
     "data": {
      "text/html": [
       "<h3>res_1</h3>"
      ],
      "text/plain": [
       "<IPython.core.display.HTML object>"
      ]
     },
     "metadata": {},
     "output_type": "display_data"
    },
    {
     "data": {
      "text/html": [
       "<table>\n",
       "<thead>\n",
       "<tr><th>#    </th><th>Title\n",
       "(string)                  </th><th>ThumbImageMono\n",
       "(string)     </th><th>ThumbImage\n",
       "(string)                                    </th><th>SecendRow\n",
       "(string)                                              </th><th>therdRow\n",
       "(string)                                  </th><th>item_url\n",
       "(string)                                                                                           </th><th>filename\n",
       "(string)                                                          </th><th>image_urls\n",
       "(array)                                                                                                         </th><th>extras\n",
       "(array)     </th><th>extra\n",
       "(array)   </th><th>Museum\n",
       "(string)                                  </th><th>Item Type\n",
       "(string)         </th><th>artist_names\n",
       "(string)                                            </th><th>Period\n",
       "(string)     </th><th>Domain\n",
       "(string)    </th><th>Classification\n",
       "(string)           </th><th>length\n",
       "(string)        </th><th>width\n",
       "(string)        </th><th>Technique\n",
       "(string)                                   </th><th>Notes\n",
       "(string)                                                                                                         </th><th>Item Code\n",
       "(string)                     </th><th>Photographers\n",
       "(any)                                                                                                         </th><th>Height\n",
       "(string)      </th><th>Depth\n",
       "(string)     </th><th>Length\n",
       "(string)     </th><th>Artist\\Maker history\n",
       "(string)     </th><th>Inviter\n",
       "(string)     </th><th>Maximal width\n",
       "(string)     </th><th>Description (obverse)\n",
       "(string)     </th><th>Location\n",
       "(string)       </th><th>Date\n",
       "(string)            </th><th>Wiesbaden collecting point number\n",
       "(string)     </th><th>Registration No.\n",
       "(string)     </th><th>Copyright\n",
       "(string)                                  </th><th>Keywords\n",
       "(string)                        </th><th>Curator\n",
       "(string)     </th><th>End Date\n",
       "(string)     </th><th>Style\n",
       "(string)     </th><th>Credit\n",
       "(string)                                                                   </th><th>Color\n",
       "(string)     </th><th>Ownership\n",
       "(string)     </th><th>Thikness\n",
       "(string)     </th><th>Maximal diameter\n",
       "(string)     </th><th>Thickness\n",
       "(string)     </th><th>Descirption (reverse)\n",
       "(string)     </th><th>Width\n",
       "(string)     </th><th>Designer\n",
       "(string)     </th><th>Diameter\n",
       "(string)     </th><th>Additional Information\n",
       "(string)     </th><th>Material\n",
       "(string)     </th><th>School\n",
       "(string)     </th></tr>\n",
       "</thead>\n",
       "<tbody>\n",
       "<tr><td>1    </td><td>Red Sea Hamburger</td><td>None</td><td>TID126344_ITEM_MAIN_PIC_452250.jpg </td><td>צ'נצ'ל בנגה ,                                </td><td>Janco-Dada Museum, Ein Hod       </td><td>http://www.museumsinisrael.gov.il/en/items/Pages/ItemCard.aspx?IdItem=ICMS-JCO-C.1075.2015</td><td>../data/musportal-item-pages-en-puppeteer/rownum0.txt    </td><td>['http://images.museumsinisrael.gov.il/thmbn_images/45/22/thn_1024x768_TID126344_ITEM_MAIN_PIC_45225 ...</td><td>[]  </td><td>[]</td><td>Janco-Dada Museum, Ein Hod       </td><td>Painting</td><td>צ'נצ'ל בנגה                                </td><td>2015</td><td>Art</td><td>Visual Art</td><td>20.8 cm</td><td>14.8 cm</td><td>watercolor and indian ink on paper</td><td>Chanchal Banga's humoristic language and amusing thematical combinations are expressed in the works  ...</td><td>ICMS-JCO-C.1075.2015</td><td>Warhaftig Venezian                                                                                      </td><td>None </td><td>None</td><td>None</td><td>None</td><td>None</td><td>None</td><td>None</td><td>None  </td><td>None       </td><td>None</td><td>None</td><td>None                             </td><td>None                   </td><td>None</td><td>None</td><td>None</td><td>None                                                              </td><td>None</td><td>None</td><td>None</td><td>None</td><td>None</td><td>None</td><td>None</td><td>None</td><td>None</td><td>None</td><td>None</td><td>None</td></tr>\n",
       "<tr><td>2    </td><td>Untitled         </td><td>None</td><td>TID126340_ITEM_MAIN_PIC_551027.jpg </td><td>Nir Dvorai ,                                 </td><td>Janco-Dada Museum, Ein Hod       </td><td>http://www.museumsinisrael.gov.il/en/items/Pages/ItemCard.aspx?IdItem=ICMS-JCO-C.1068.2015</td><td>../data/musportal-item-pages-en-puppeteer/rownum1.txt    </td><td>['http://images.museumsinisrael.gov.il/thmbn_images/55/10/thn_1024x768_TID126340_ITEM_MAIN_PIC_55102 ...</td><td>None</td><td>[]</td><td>Janco-Dada Museum, Ein Hod       </td><td>קולאז'  </td><td>Nir Dvorai                                 </td><td>2015</td><td>Art</td><td>Visual Art</td><td>None   </td><td>60 cm  </td><td>None                              </td><td>collage of photos the artist took, then made cutouts of them, and joined in new formations, giving i ...</td><td>ICMS-JCO-C.1068.2015</td><td>[]                                                                                                      </td><td>43 cm</td><td>None</td><td>None</td><td>None</td><td>None</td><td>None</td><td>None</td><td>None  </td><td>None       </td><td>None</td><td>None</td><td>None                             </td><td>None                   </td><td>None</td><td>None</td><td>None</td><td>None                                                              </td><td>None</td><td>None</td><td>None</td><td>None</td><td>None</td><td>None</td><td>None</td><td>None</td><td>None</td><td>None</td><td>None</td><td>None</td></tr>\n",
       "<tr><td>...  </td><td>                 </td><td>    </td><td>                                   </td><td>                                             </td><td>                                 </td><td>                                                                                          </td><td>                                                         </td><td>                                                                                                        </td><td>    </td><td>  </td><td>                                 </td><td>        </td><td>                                           </td><td>    </td><td>   </td><td>          </td><td>       </td><td>       </td><td>                                  </td><td>                                                                                                        </td><td>                    </td><td>                                                                                                        </td><td>     </td><td>    </td><td>    </td><td>    </td><td>    </td><td>    </td><td>    </td><td>      </td><td>           </td><td>    </td><td>    </td><td>                                 </td><td>                       </td><td>    </td><td>    </td><td>    </td><td>                                                                  </td><td>    </td><td>    </td><td>    </td><td>    </td><td>    </td><td>    </td><td>    </td><td>    </td><td>    </td><td>    </td><td>    </td><td>    </td></tr>\n",
       "<tr><td>23995</td><td>Female Nude      </td><td>None</td><td>TID128411_ITEM_MAIN_PIC_1106257.jpg</td><td>Stern, Friedel, Leipzig, Germany, 1917-2006 ,</td><td>The Israeli Cartoon Museum, Holon</td><td>http://www.museumsinisrael.gov.il/en/items/Pages/ItemCard.aspx?IdItem=ICMS-CAR-1003966    </td><td>../data/musportal-item-pages-en-puppeteer/rownum23994.txt</td><td>['http://images.museumsinisrael.gov.il/thmbn_images/11/06/25/thn_1024x768_TID128411_ITEM_MAIN_PIC_11 ...</td><td>None</td><td>[]</td><td>The Israeli Cartoon Museum, Holon</td><td>Drawing </td><td>Stern, Friedel, Leipzig, Germany, 1917-2006</td><td>None</td><td>Art</td><td>Visual Art</td><td>None   </td><td>None   </td><td>India ink on paper                </td><td>None                                                                                                    </td><td>ICMS-CAR-1003966    </td><td>Image produced as part of a joint project of the Harvard Library Judaica Division and the Israeli Ca ...</td><td>None </td><td>None</td><td>None</td><td>None</td><td>None</td><td>None</td><td>None</td><td>Israel</td><td>1950 - 1970</td><td>None</td><td>None</td><td>The Israeli Cartoon Museum, Holon</td><td>Nude, Portrait, Drawing</td><td>None</td><td>None</td><td>None</td><td>Bequest of Friedel Stern, Collection of the Israeli Cartoon Museum</td><td>None</td><td>None</td><td>None</td><td>None</td><td>None</td><td>None</td><td>None</td><td>None</td><td>None</td><td>None</td><td>None</td><td>None</td></tr>\n",
       "</tbody>\n",
       "</table>"
      ],
      "text/plain": [
       "<IPython.core.display.HTML object>"
      ]
     },
     "metadata": {},
     "output_type": "display_data"
    },
    {
     "name": "stdout",
     "output_type": "stream",
     "text": [
      "{''}\n"
     ]
    }
   ],
   "source": [
    "from pyquery import PyQuery as pq\n",
    "from dataflows import dump_to_path\n",
    "\n",
    "mutportal_item_descriptions = []\n",
    "\n",
    "def super_strip(string):\n",
    "    return string.strip().strip(':').strip()\n",
    "\n",
    "FIELDS = {\n",
    "  'Museum': 'string',\n",
    "  'Item Type': 'string',\n",
    "  'artist_names': 'string',\n",
    "  'Period': 'string',\n",
    "  'Domain': 'string',\n",
    "  'Classification': 'string',\n",
    "  'length': 'string',\n",
    "  'width': 'string',\n",
    "  'Technique': 'string',\n",
    "  'Notes': 'string',\n",
    "  'Item Code': 'string',\n",
    "  'Photographers': 'array',\n",
    "  'Height': 'string',\n",
    "  'Depth': 'string',\n",
    "  'Length': 'string',\n",
    "  'Artist\\\\Maker history': 'string',\n",
    "  'Inviter': 'string',\n",
    "  'Maximal width': 'string',\n",
    "  'Description (obverse)': 'string',\n",
    "  'Location': 'string',\n",
    "  'Date': 'string',\n",
    "  'Wiesbaden collecting point number': 'string',\n",
    "  'Registration No.': 'string',\n",
    "  'Copyright': 'string',\n",
    "  'Keywords': 'string',\n",
    "  'Curator': 'string',\n",
    "  'End Date': 'string',\n",
    "  'Style': 'string',\n",
    "  'Credit': 'string',\n",
    "  'Color': 'string',\n",
    "  'Ownership': 'string',\n",
    "  'Thikness': 'string',\n",
    "  'Maximal diameter': 'string',\n",
    "  'Thickness': 'string',\n",
    "  'Descirption (reverse)': 'string',\n",
    "  'Width': 'string',\n",
    "  'Designer': 'string',\n",
    "  'Diameter': 'string',\n",
    "  'Additional Information': 'string',\n",
    "  'Material': 'string',\n",
    "  'School': 'string',\n",
    "}\n",
    "\n",
    "SKIP_ITEM_URLS = [\n",
    "    'http://www.museumsinisrael.gov.il/en/items/Pages/ItemCard.aspx?IdItem=ICMS-CAR-00143',\n",
    "]\n",
    "\n",
    "all_extra_keys = set()\n",
    "\n",
    "def set_row_field(row, k, v):\n",
    "    if k in FIELDS:\n",
    "        row[k] = v\n",
    "    else:\n",
    "        row['extra'].append([k, v])\n",
    "        all_extra_keys.add(k)\n",
    "\n",
    "\n",
    "def load_rows():\n",
    "    for i, row in enumerate(all_items_by_en_url.values()):\n",
    "        item_url = row['item_url']\n",
    "        if (item_url in SKIP_ITEM_URLS): \n",
    "            continue\n",
    "        with open(row['filename']) as f:\n",
    "            text = f.read()\n",
    "        splitext = text.split('~~~~~~~~~~~~~~~~~~~~~~~~~~~~~~')\n",
    "        assert splitext[1].strip() == row['item_url']\n",
    "        htmltext = splitext[2].strip()\n",
    "        d = pq(htmltext)\n",
    "        row['image_urls'] = []\n",
    "        row['extra'] = []\n",
    "        for k,v in FIELDS.items():\n",
    "            row[k] = [] if v == 'array' else ''\n",
    "        item_main_pics = d('.ItemMainPic')\n",
    "        assert len(item_main_pics) == 1\n",
    "        pic = pq(item_main_pics[0])\n",
    "        imgs = pq(pic.find('img'))\n",
    "        try:\n",
    "            for img in imgs:\n",
    "                row['image_urls'].append(imgs[0].attrib['src'])                    \n",
    "        except Exception as e:\n",
    "            print(f'{item_url}: exception parsing main image urls: {e}')\n",
    "            row['image_urls'] = []\n",
    "        articles = d('article.ItmeDetailsZone')\n",
    "        assert len(articles) == 1\n",
    "        article = articles[0]\n",
    "        description = \"\\n\".join((item_description_allinfo.text for item_description_allinfo \n",
    "                                 in pq(article).find('.ItemDescripion .allinfo')))\n",
    "        mutportal_item_descriptions.append({'item_url': row['item_url'],\n",
    "                                            'SecendRow': row['SecendRow'], \n",
    "                                            'therdRow': row['therdRow'],\n",
    "                                            'description': description})\n",
    "        detail_infos = pq(article).find('.detailInfo')\n",
    "        for detail_info in detail_infos:\n",
    "            item_label_names = pq(detail_info).find('.itemlablename')\n",
    "            if len(item_label_names) == 0: continue\n",
    "            assert len(item_label_names) == 1, pq(detail_info).html()\n",
    "            item_label_name = super_strip(pq(item_label_names[0]).text())\n",
    "            item_text_names = pq(detail_info).find('.itemTextname')\n",
    "            size_tables = pq(detail_info).find('.sizeTable')\n",
    "            ic_artist_list = pq(detail_info).find('.ICArtiistList')\n",
    "            all_infos = pq(detail_info).find('.allinfo')\n",
    "            if len(item_text_names) == 1:\n",
    "                assert len(size_tables) == 0 and len(ic_artist_list) == 0 and len(all_infos) == 0, pq(detail_info).html()\n",
    "                assert len(item_text_names) == 1, pq(detail_info).html()\n",
    "                set_row_field(row, item_label_name, pq(item_text_names[0]).text().strip())\n",
    "            elif len(size_tables) == 1:\n",
    "                assert len(item_text_names) == 0 and len(ic_artist_list) == 0 and len(all_infos) == 0, pq(detail_info).html()\n",
    "                trs = pq(size_tables[0]).find('tr')\n",
    "                for tr in trs:\n",
    "                    meas_labels = pq(tr).find('.MeasLabel')\n",
    "                    meas_values = pq(tr).find('.MeasValue')\n",
    "                    assert len(meas_labels) == 1 and len(meas_values) == 1, pq(detail_info).html()\n",
    "                    meas_label = super_strip(pq(meas_labels[0]).text())\n",
    "                    set_row_field(row, meas_label, super_strip(pq(meas_values[0]).text()))\n",
    "            elif len(ic_artist_list) == 1:\n",
    "                assert len(size_tables) == 0 and len(item_text_names) == 0 and len(all_infos) == 0, pq(detail_info).html()\n",
    "                artist_names = []\n",
    "                for ic_artist_name in pq(ic_artist_list[0]).find('.ICArtistName'):\n",
    "                    artist_names.append(super_strip(pq(ic_artist_name).text()))\n",
    "                set_row_field(row, 'artist_names', ', '.join(artist_names))\n",
    "            elif len(all_infos) == 1:\n",
    "                set_row_field(row, item_label_name, pq(all_infos[0]).text().strip())\n",
    "            else:\n",
    "                if pq(detail_info).text().strip() != 'Artist / Creator:':\n",
    "                    raise Exception(item_url + \"\\n\" + \"\\n\" + pq(detail_info).html() + \"\\n\" + pq(article).html())\n",
    "        yield row\n",
    "\n",
    "\n",
    "Flow(\n",
    "    load_rows(),\n",
    "    dump_to_path('../data/parsed_item_pages_en'),\n",
    "    printer(tablefmt='html', num_rows=1)\n",
    ").process()\n",
    "\n",
    "print(all_extra_keys)"
   ]
  }
 ],
 "metadata": {
  "kernelspec": {
   "display_name": "Python 3",
   "language": "python",
   "name": "python3"
  },
  "language_info": {
   "codemirror_mode": {
    "name": "ipython",
    "version": 3
   },
   "file_extension": ".py",
   "mimetype": "text/x-python",
   "name": "python",
   "nbconvert_exporter": "python",
   "pygments_lexer": "ipython3",
   "version": "3.6.8"
  }
 },
 "nbformat": 4,
 "nbformat_minor": 2
}
